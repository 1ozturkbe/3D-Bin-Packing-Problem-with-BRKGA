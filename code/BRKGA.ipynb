{
 "cells": [
  {
   "cell_type": "markdown",
   "metadata": {},
   "source": [
    "## Biased Random-Key Genetic Algorithm"
   ]
  },
  {
   "cell_type": "markdown",
   "metadata": {},
   "source": [
    "__Placement Procedure__"
   ]
  },
  {
   "cell_type": "code",
   "execution_count": null,
   "metadata": {},
   "outputs": [],
   "source": [
    "import math\n",
    "import time\n",
    "import random\n",
    "import numpy as np\n",
    "import pandas as pd\n",
    "import concurrent.futures\n",
    "from model import PlacementProcedure, generateInputs\n",
    "from model import generateInputs, BRKGA\n",
    "\n",
    "import matplotlib.pyplot as plt"
   ]
  },
  {
   "cell_type": "markdown",
   "metadata": {},
   "source": [
    "__Evolutionary Process__"
   ]
  },
  {
   "cell_type": "code",
   "execution_count": null,
   "metadata": {},
   "outputs": [],
   "source": [
    "inputs = {\n",
    "    'p': [188, 188, 188, 188, 188, 188, 188, 188, 188, 188, 61, 61, 61, 61, 61, 61, 61, 61, 61, 61, 61, 61, 61, 61, 61, 61, 61, 61, 61, 61, 61, 61, 61, 61, 61, 61, 61, 61, 61, 61, 61, 61, 61, 61, 61, 61, 260, 260, 260, 260, 260, 260, 260, 260, 260, 260, 260, 260, 260, 260, 145, 145, 145, 145, 145],\n",
    "    'q': [28, 28, 28, 28, 28, 28, 28, 28, 28, 28, 9, 9, 9, 9, 9, 9, 9, 9, 9, 9, 9, 9, 9, 9, 9, 9, 9, 9, 9, 9, 9, 9, 9, 9, 9, 9, 9, 9, 9, 9, 9, 9, 9, 9, 9, 9, 39, 39, 39, 39, 39, 39, 39, 39, 39, 39, 39, 39, 39, 39, 80, 80, 80, 80, 80 ],\n",
    "    'r': [58, 58, 58, 58, 58, 58, 58, 58, 58, 58, 79, 79, 79, 79, 79, 79, 79, 79, 79, 79, 79, 79, 79, 79, 79, 79, 79, 79, 79, 79, 79, 79, 79, 79, 79, 79, 79, 79, 79, 79, 79, 79, 79, 79, 79, 79, 80, 80, 80, 80, 80, 80, 80, 80, 80, 80, 80, 80, 80, 80, 96, 96, 96, 96, 96, 96, 96, 96, 96, 96],\n",
    "    'L': [610, 610, 610, 610],\n",
    "    'W': [244, 244, 244, 244],\n",
    "    'H': [259, 259, 259, 259]\n",
    "}\n",
    "\n",
    "inputs = {'v':list(zip(inputs['p'], inputs['q'], inputs['r'])), 'V':list(zip(inputs['L'], inputs['W'], inputs['H']))}\n",
    "print('number of boxes:',len(inputs['v']))\n"
   ]
  },
  {
   "cell_type": "code",
   "execution_count": null,
   "metadata": {},
   "outputs": [],
   "source": [
    "start_time = time.time()\n",
    "\n",
    "inputs = generateInputs(75, 20, (600, 250, 250))\n",
    "\n",
    "model = BRKGA(inputs, num_generations = 100, num_individuals = 100, num_elites = 10, num_mutants = 7, eliteCProb = 0.7)\n",
    "model.fit(patient = 15, verbose = True)\n",
    "print('used bins:', model.used_bins)\n",
    "print('time:', time.time() - start_time)"
   ]
  },
  {
   "cell_type": "code",
   "execution_count": null,
   "metadata": {},
   "outputs": [],
   "source": [
    "inputs['solution'] = model.solution\n",
    "decoder = PlacementProcedure(inputs, model.solution)\n",
    "print('fitness:',decoder.evaluate())"
   ]
  },
  {
   "cell_type": "code",
   "execution_count": null,
   "metadata": {},
   "outputs": [],
   "source": [
    "def plot_history(history, tick = 2):\n",
    "    for target in ['mean', 'min']:\n",
    "        plt.plot(history[target], label = target)\n",
    "    plt.title('Fitness during evolution')\n",
    "    plt.ylabel('fitness')\n",
    "    plt.xlabel('generation')\n",
    "    plt.xticks(np.arange(0, len(history['min']), tick))\n",
    "    plt.legend()\n",
    "    # h-line for integer\n",
    "    for i in np.arange(math.ceil(min(history['min'])), int(max(history['mean']))+1):\n",
    "        plt.axhline(y = i, color = 'g', linestyle = '-') \n",
    "    plt.show()\n",
    "\n",
    "plot_history(model.history)\n"
   ]
  },
  {
   "cell_type": "code",
   "execution_count": null,
   "metadata": {},
   "outputs": [],
   "source": [
    "from plot import plot_3D\n",
    "\n",
    "V = (610, 244, 259)\n",
    "def draw(decoder):\n",
    "    for i in range(decoder.num_opend_bins):\n",
    "        container = plot_3D(V=V)\n",
    "        for box in decoder.Bins[i].load_items:\n",
    "            container.add_box(box[0], box[1], mode = 'EMS')\n",
    "        print('Container',i, ':')\n",
    "        container.findOverlapping()\n",
    "        container.show()\n",
    "        \n",
    "draw(decoder)"
   ]
  }
 ],
 "metadata": {
  "kernelspec": {
   "display_name": "Python 3",
   "language": "python",
   "name": "python3"
  },
  "language_info": {
   "codemirror_mode": {
    "name": "ipython",
    "version": 3
   },
   "file_extension": ".py",
   "mimetype": "text/x-python",
   "name": "python",
   "nbconvert_exporter": "python",
   "pygments_lexer": "ipython3",
   "version": "3.10.4"
  }
 },
 "nbformat": 4,
 "nbformat_minor": 4
}
